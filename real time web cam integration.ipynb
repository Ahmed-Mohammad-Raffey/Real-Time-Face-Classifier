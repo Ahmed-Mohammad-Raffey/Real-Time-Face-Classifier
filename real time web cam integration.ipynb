{
 "cells": [
  {
   "cell_type": "code",
   "execution_count": null,
   "id": "fad8f566-fa02-443f-babe-d5cf9f48c0f5",
   "metadata": {},
   "outputs": [
    {
     "name": "stderr",
     "output_type": "stream",
     "text": [
      "WARNING:absl:Compiled the loaded model, but the compiled metrics have yet to be built. `model.compile_metrics` will be empty until you train or evaluate the model.\n",
      "WARNING:absl:Compiled the loaded model, but the compiled metrics have yet to be built. `model.compile_metrics` will be empty until you train or evaluate the model.\n"
     ]
    }
   ],
   "source": [
    "import cv2\n",
    "import numpy as np\n",
    "from keras.models import load_model\n",
    "from keras.applications.mobilenet_v2 import preprocess_input\n",
    "from tensorflow.keras.preprocessing.image import img_to_array\n",
    "\n",
    "# Load models\n",
    "emotion_model = load_model('emotions_model.h5')\n",
    "age_gender_model = load_model('age_gender_model.h5')\n",
    "\n",
    "# Label mappings\n",
    "emotion_labels = ['Angry', 'Disgust', 'Fear', 'Happy', 'Sad', 'Surprise', 'Neutral']\n",
    "gender_map = {0: 'Male', 1: 'Female'}\n",
    "age_range_map = {\n",
    "    0: \"0-2\", 1: \"3-9\", 2: \"10-19\", 3: \"20-29\",\n",
    "    4: \"30-39\", 5: \"40-49\", 6: \"50-59\", 7: \"60+\"\n",
    "}\n",
    "\n",
    "# Load Haar Cascade for face detection\n",
    "face_cascade = cv2.CascadeClassifier(cv2.data.haarcascades + 'haarcascade_frontalface_default.xml')\n",
    "\n",
    "# Start webcam\n",
    "cap = cv2.VideoCapture(0)\n",
    "\n",
    "while True:\n",
    "    ret, frame = cap.read()\n",
    "    if not ret:\n",
    "        break\n",
    "\n",
    "    gray = cv2.cvtColor(frame, cv2.COLOR_BGR2GRAY)\n",
    "    rgb = cv2.cvtColor(frame, cv2.COLOR_BGR2RGB)\n",
    "    faces = face_cascade.detectMultiScale(gray, scaleFactor=1.3, minNeighbors=5)\n",
    "\n",
    "    for (x, y, w, h) in faces:\n",
    "        roi_gray = gray[y:y+h, x:x+w]\n",
    "        roi_rgb = rgb[y:y+h, x:x+w]\n",
    "\n",
    "        # Emotion Prediction (48x48 Grayscale)\n",
    "        emotion_input = cv2.resize(roi_gray, (48, 48))\n",
    "        emotion_input = emotion_input.reshape(1, 48, 48, 1).astype('float32') / 255.0\n",
    "        emotion_pred = emotion_model.predict(emotion_input, verbose=0)\n",
    "        emotion = emotion_labels[np.argmax(emotion_pred)]\n",
    "\n",
    "        # Age & Gender Prediction (96x96 RGB)\n",
    "        try:\n",
    "            age_gender_input = cv2.resize(roi_rgb, (96, 96))\n",
    "            age_gender_input = img_to_array(age_gender_input)\n",
    "            age_gender_input = preprocess_input(age_gender_input)\n",
    "            age_gender_input = np.expand_dims(age_gender_input, axis=0)\n",
    "\n",
    "            gender_pred, age_pred = age_gender_model.predict(age_gender_input, verbose=0)\n",
    "\n",
    "            # Handle gender prediction: sigmoid (1 node) or softmax (2 nodes)\n",
    "            if gender_pred.shape[-1] == 1:\n",
    "                gender = gender_map[int(gender_pred[0][0] > 0.5)]\n",
    "            else:\n",
    "                gender = gender_map[np.argmax(gender_pred)]\n",
    "\n",
    "            age = age_range_map[np.argmax(age_pred)]\n",
    "\n",
    "        except Exception as e:\n",
    "            gender = \"Unknown\"\n",
    "            age = \"Unknown\"\n",
    "\n",
    "        # Display on frame\n",
    "        label = f\"{emotion}, {gender}, {age}\"\n",
    "        cv2.rectangle(frame, (x, y), (x+w, y+h), (255, 200, 0), 2)\n",
    "        cv2.putText(frame, label, (x, y-10), cv2.FONT_HERSHEY_SIMPLEX,\n",
    "                    0.8, (0, 255, 0), 2)\n",
    "\n",
    "    cv2.imshow(\"Real-time Emotion, Gender & Age Prediction\", frame)\n",
    "\n",
    "    if cv2.waitKey(1) & 0xFF == ord('q'):\n",
    "        break\n",
    "\n",
    "cap.release()\n",
    "cv2.destroyAllWindows()\n"
   ]
  },
  {
   "cell_type": "code",
   "execution_count": null,
   "id": "835164d3-dfa2-4771-bdec-4db7e3679c96",
   "metadata": {},
   "outputs": [],
   "source": []
  }
 ],
 "metadata": {
  "kernelspec": {
   "display_name": "Python 3 (ipykernel)",
   "language": "python",
   "name": "python3"
  },
  "language_info": {
   "codemirror_mode": {
    "name": "ipython",
    "version": 3
   },
   "file_extension": ".py",
   "mimetype": "text/x-python",
   "name": "python",
   "nbconvert_exporter": "python",
   "pygments_lexer": "ipython3",
   "version": "3.12.4"
  }
 },
 "nbformat": 4,
 "nbformat_minor": 5
}
